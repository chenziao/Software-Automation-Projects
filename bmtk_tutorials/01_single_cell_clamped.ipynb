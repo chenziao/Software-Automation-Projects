{
 "cells": [
  {
   "cell_type": "markdown",
   "metadata": {},
   "source": [
    "# Chapter 1: Single cell simulation with current injection (with BioNet)\n",
    "\n",
    "In this example we will build a network consisting of a single biophysically detailed cell. Then we will run a short simulation with a current injection at the soma of the cell, then look at the output of spikes, membrane potential and calcium flux.\n",
    "\n",
    "\n",
    "**Note** - scripts and files for running this tutorial can be found in the directory [sources/chapter01/](sources/chapter01)\n",
    "\n",
    "**requirements:**\n",
    "* Python 2.7, 3.6+\n",
    "* bmtk\n",
    "* NEURON 7.4+"
   ]
  },
  {
   "cell_type": "markdown",
   "metadata": {},
   "source": [
    "## 1. Building the network\n",
    "\n",
    "First step is to use the bmtk Network Builder to create and save the network. First we instantiate a network with a name or our choosing (since throughout this tutorial we will use cell models that from the mouse cortex, let's call our network 'mcortex'). \n",
    "\n",
    "Once we have a network, we can add a single node by calling the add_nodes method."
   ]
  },
  {
   "cell_type": "code",
   "execution_count": null,
   "metadata": {},
   "outputs": [],
   "source": [
    "from bmtk.builder.networks import NetworkBuilder\n",
    "\n",
    "net = NetworkBuilder('mcortex')\n",
    "net.add_nodes(cell_name='Scnn1a_473845048',\n",
    "              potental='exc',\n",
    "              model_type='biophysical',\n",
    "              model_template='ctdb:Biophys1.hoc',\n",
    "              model_processing='aibs_perisomatic',\n",
    "              dynamics_params='472363762_fit.json',\n",
    "              morphology='Scnn1a_473845048_m.swc')"
   ]
  },
  {
   "cell_type": "markdown",
   "metadata": {},
   "source": [
    "Some of the parameters used to create the node are optional and only for our benefit. Others are necessary for when we will eventually run a simulation:\n",
    "* *cell_name* (optional) - Name/type of cell we will be modeling.\n",
    "* *potential* (optional) - Use to indicate that it is an excitatory type cell.\n",
    "* *model_type* - Used by the simulator to indicate that we are using a biophysical cell.\n",
    "* *dynamics_params* - Model parameters. File will be downloaded from the Allen Cell Types Database. \n",
    "* *morphology* - Model morphology. File will be downloaded from the Allen Cell Types Database.\n",
    "* *model_processing* - A custom function used by the simulator to load the model into NEURON using Allen Cell-Types files for perisomatic models\n",
    " \n",
    "#### Building and saving\n",
    "The final thing to do is to build and save the network. If successful, we should see a combination of hdf5 and csv files in the './network' directory, these files are used describe the network, and can be saved, stored and run at a later date.\n",
    "\n",
    "First, it's a good idea to remove any old files in the \"network\" folder so they don't interfere with the current simulation."
   ]
  },
  {
   "cell_type": "code",
   "execution_count": null,
   "metadata": {},
   "outputs": [],
   "source": [
    "%%bash\n",
    "rm network/*"
   ]
  },
  {
   "cell_type": "markdown",
   "metadata": {},
   "source": [
    "If you get the output:\n",
    "\n",
    "rm: cannot remove 'network/*': No such file or directory\n",
    "\n",
    "It's OK. Keep going."
   ]
  },
  {
   "cell_type": "code",
   "execution_count": null,
   "metadata": {},
   "outputs": [],
   "source": [
    "net.build()\n",
    "net.save_nodes(output_dir='network')"
   ]
  },
  {
   "cell_type": "markdown",
   "metadata": {},
   "source": [
    "Use the NetworkBuilder nodes() method to show that a node of our parameters was created"
   ]
  },
  {
   "cell_type": "code",
   "execution_count": null,
   "metadata": {},
   "outputs": [],
   "source": [
    "for node in net.nodes():\n",
    "    print(node)"
   ]
  },
  {
   "cell_type": "markdown",
   "metadata": {},
   "source": [
    "## 2. Setting up the simulator enviornment\n",
    "\n",
    "Now that the network has been built, we can use the BioNet simulator to setup and run it using NEURON. The easiest ways to do this is to copy and modify [existing simulation setup](https://github.com/AllenInstitute/bmtk/tree/develop/docs/examples/bio_14cells), or use the  ```bmtk.utils.sim_setup``` script which can be called from the command-line\n",
    "\n",
    "```bash\n",
    "$ python -m bmtk.utils.sim_setup  --report-vars v,cai         \\\n",
    "                                  --network network/          \\\n",
    "                                  --iclamp 0.12,500.0,1000.0  \\\n",
    "                                  --dt 0.1 --tstop 2000.0     \\\n",
    "                                  --include-examples          \\\n",
    "                                  --compile-mechanisms        \\\n",
    "                                  bionet sim_ch01\n",
    "```\n",
    "Or call the function directly in python"
   ]
  },
  {
   "cell_type": "code",
   "execution_count": 1,
   "metadata": {},
   "outputs": [
    {
     "name": "stderr",
     "output_type": "stream",
     "text": [
      "ERROR:bmtk.utils.sim_setup:  Was unable to compile mechanism in D:\\BMTK\\bmtk\\docs\\tutorial\\sim_ch01\\components\\mechanisms\n"
     ]
    }
   ],
   "source": [
    "from bmtk.utils.sim_setup import build_env_bionet\n",
    "\n",
    "build_env_bionet(base_dir='sim_ch01',      # Where to save the scripts and config files \n",
    "                 network_dir='network',    # Location of directory containing network files\n",
    "                 tstop=2000.0, dt=0.1,     # Run a simulation for 2000 ms at 0.1 ms intervals\n",
    "                 report_vars=['v', 'cai'], # Tells simulator we want to record membrane potential and calcium traces\n",
    "                 current_clamp={           # Creates a step current from 500.ms to 1500.0 ms  \n",
    "                     'amp': 0.120,\n",
    "                     'delay': 500.0,\n",
    "                     'duration': 1000.0\n",
    "                 },\n",
    "                 include_examples=True,    # Copies components files\n",
    "                 compile_mechanisms=True   # Will try to compile NEURON mechanisms\n",
    "                )"
   ]
  },
  {
   "cell_type": "markdown",
   "metadata": {},
   "source": [
    "<div class=\"alert alert-warning\">\n",
    "**Warning**: You may see an error that it failed while trying to compile the NEURON mechanisms - especially if jupyter is unable to find your NEURON environment path. If this happens you will need to manually compile the mechanisms:  \n",
    "\n",
    "```\n",
    " cd sim_ch01/components/mechanisms  \n",
    " nrnivmodl modfiles\n",
    "```\n",
    "</div>\n",
    "\n",
    "\n",
    "\n",
    "This will create the directory **sim_ch01** (feel free to give it a better name or set it to a different locations) with a number of new files and folders. Some of the more important ones include:\n",
    "* **circuit_config.json** - A configuration file that contains the location of the network files we created above. Plus location of neuron and synpatic models, templates, morphologies and mechanisms required to build our instantiate individual cell models.\n",
    "\n",
    "\n",
    "* **simulation_config.json** - contains information about the simulation. Including initial conditions and run-time configuration (_run_ and _conditions_). In the _inputs_ section we define what external sources we will use to drive the network (in this case a current clamp). And in the _reports_ section we define the variables (soma membrane potential and calcium) that will be recorded during the simulation \n",
    "\n",
    "\n",
    "* **components/biophysical_neuron_models/472363762_fit.json** - The parameter file for the cell we're modeling. Originally [downloaded from the Allen Cell Types Database](http://celltypes.brain-map.org/neuronal_model/download/482934212)\n",
    "\n",
    "\n",
    "* **components/biophysical_neuron_models/Scnn1a_473845048_m.swc** - The morphology file for our cell. Originally [downloaded from the Allen Cell Types Database](http://celltypes.brain-map.org/neuronal_model/download/482934212)\n",
    "\n",
    "\n",
    "Modifying these files with a text editor, or swapping out different parameter or morphologies, allows changing the simulation without extra programming."
   ]
  },
  {
   "cell_type": "markdown",
   "metadata": {},
   "source": [
    "## 3. Running the simulation\n",
    "\n",
    "Once our config file is setup we can run a simulation either through the command line:\n",
    "```bash\n",
    "$ python run_bionet.py simulation_config.json\n",
    "```\n",
    "\n",
    "or through the script"
   ]
  },
  {
   "cell_type": "code",
   "execution_count": 2,
   "metadata": {},
   "outputs": [
    {
     "name": "stdout",
     "output_type": "stream",
     "text": [
      "2020-03-16 14:48:22,959 [INFO] Created log file\n"
     ]
    },
    {
     "name": "stderr",
     "output_type": "stream",
     "text": [
      "INFO:NEURONIOUtils:Created log file\n"
     ]
    },
    {
     "name": "stdout",
     "output_type": "stream",
     "text": [
      "2020-03-16 14:48:23,171 [INFO] Building cells.\n"
     ]
    },
    {
     "name": "stderr",
     "output_type": "stream",
     "text": [
      "INFO:NEURONIOUtils:Building cells.\n"
     ]
    },
    {
     "name": "stdout",
     "output_type": "stream",
     "text": [
      "2020-03-16 14:48:23,582 [INFO] Building recurrent connections\n"
     ]
    },
    {
     "name": "stderr",
     "output_type": "stream",
     "text": [
      "INFO:NEURONIOUtils:Building recurrent connections\n"
     ]
    },
    {
     "name": "stdout",
     "output_type": "stream",
     "text": [
      "2020-03-16 14:48:23,620 [INFO] Running simulation for 2000.000 ms with the time step 0.100 ms\n"
     ]
    },
    {
     "name": "stderr",
     "output_type": "stream",
     "text": [
      "INFO:NEURONIOUtils:Running simulation for 2000.000 ms with the time step 0.100 ms\n"
     ]
    },
    {
     "name": "stdout",
     "output_type": "stream",
     "text": [
      "2020-03-16 14:48:23,627 [INFO] Starting timestep: 0 at t_sim: 0.000 ms\n"
     ]
    },
    {
     "name": "stderr",
     "output_type": "stream",
     "text": [
      "INFO:NEURONIOUtils:Starting timestep: 0 at t_sim: 0.000 ms\n"
     ]
    },
    {
     "name": "stdout",
     "output_type": "stream",
     "text": [
      "2020-03-16 14:48:23,645 [INFO] Block save every 5000 steps\n"
     ]
    },
    {
     "name": "stderr",
     "output_type": "stream",
     "text": [
      "INFO:NEURONIOUtils:Block save every 5000 steps\n"
     ]
    },
    {
     "name": "stdout",
     "output_type": "stream",
     "text": [
      "2020-03-16 14:48:24,394 [INFO]     step:5000 t_sim:500.00 ms\n"
     ]
    },
    {
     "name": "stderr",
     "output_type": "stream",
     "text": [
      "INFO:NEURONIOUtils:    step:5000 t_sim:500.00 ms\n"
     ]
    },
    {
     "name": "stdout",
     "output_type": "stream",
     "text": [
      "2020-03-16 14:48:24,934 [INFO]     step:10000 t_sim:1000.00 ms\n"
     ]
    },
    {
     "name": "stderr",
     "output_type": "stream",
     "text": [
      "INFO:NEURONIOUtils:    step:10000 t_sim:1000.00 ms\n"
     ]
    },
    {
     "name": "stdout",
     "output_type": "stream",
     "text": [
      "2020-03-16 14:48:25,801 [INFO]     step:15000 t_sim:1500.00 ms\n"
     ]
    },
    {
     "name": "stderr",
     "output_type": "stream",
     "text": [
      "INFO:NEURONIOUtils:    step:15000 t_sim:1500.00 ms\n"
     ]
    },
    {
     "name": "stdout",
     "output_type": "stream",
     "text": [
      "2020-03-16 14:48:26,503 [INFO]     step:20000 t_sim:2000.00 ms\n"
     ]
    },
    {
     "name": "stderr",
     "output_type": "stream",
     "text": [
      "INFO:NEURONIOUtils:    step:20000 t_sim:2000.00 ms\n"
     ]
    },
    {
     "name": "stdout",
     "output_type": "stream",
     "text": [
      "2020-03-16 14:48:26,601 [INFO] Simulation completed in 2.981 seconds \n"
     ]
    },
    {
     "name": "stderr",
     "output_type": "stream",
     "text": [
      "INFO:NEURONIOUtils:Simulation completed in 2.981 seconds \n"
     ]
    }
   ],
   "source": [
    "from bmtk.simulator import bionet\n",
    "\n",
    "\n",
    "conf = bionet.Config.from_json('sim_ch01/simulation_config.json')\n",
    "conf.build_env()\n",
    "net = bionet.BioNetwork.from_config(conf)\n",
    "sim = bionet.BioSimulator.from_config(conf, network=net)\n",
    "sim.run()"
   ]
  },
  {
   "cell_type": "markdown",
   "metadata": {},
   "source": [
    "<div class=\"alert alert-warning\">\n",
    "**Warning**: If you get the following error\n",
    "    argument not a density mechanism name.\n",
    "You will need to compile the NEURON mechanisms  \n",
    "\n",
    "\n",
    "```\n",
    " cd sim_ch01/components/mechanisms\n",
    " nrnivmodl modfiles\n",
    " \n",
    "```\n",
    "</div>\n",
    "\n",
    "A quick breakdown of the script:\n",
    "```python\n",
    "conf = config.from_json('config.json')\n",
    "io.setup_output_dir(conf)\n",
    "nrn.load_neuron_modules(conf)\n",
    "```\n",
    "This section loads the configuration file, it setups the output directory and files for writing during the simulation, and loads NEURON mechanisms needed by the cell model(s) during the simulation.\n",
    "\n",
    "```python\n",
    "net = bionet.BioNetwork.from_config(conf)\n",
    "```\n",
    "Creates a NEURON representation of the network, including cell models that have been converted into their NEURON equivelents.\n",
    "\n",
    "```python\n",
    "sim = Simulation.from_config(conf, network=net)\n",
    "sim.run()\n",
    "```\n",
    "Sets up and runs the NEURON simulation. When finished the output - spike times, membrane potential and Calcium influx, will be saved into the output directory as specified in the config.\n",
    "\n"
   ]
  },
  {
   "cell_type": "markdown",
   "metadata": {},
   "source": [
    "## 4. Analyzing the run\n",
    "\n",
    "The results of the simulation are placed into various files as specified in the \"output\" section of the config file. We can change this before run-time if required.\n",
    "\n",
    "All simulations will save the spike times of the network cells. These are saved in csv format (output/spikes.txt) or hdf5 format(output/spikes.h5). To get the table of spike times for our single-cell network we can run the following method from the analyzer (gid 0 corresponds to our single cell)."
   ]
  },
  {
   "cell_type": "code",
   "execution_count": 3,
   "metadata": {},
   "outputs": [
    {
     "name": "stderr",
     "output_type": "stream",
     "text": [
      "E:\\Users\\lenovo\\Anaconda3\\lib\\site-packages\\bmtk-0.0.8-py3.7.egg\\bmtk\\simulator\\utils\\config.py:4: UserWarning: Please use bmtk.simulator.core.simulation_config instead.\n",
      "  warnings.warn('Please use bmtk.simulator.core.simulation_config instead.')\n"
     ]
    },
    {
     "ename": "AttributeError",
     "evalue": "'SonataConfig' object has no attribute 'spikes_file'",
     "output_type": "error",
     "traceback": [
      "\u001b[1;31m---------------------------------------------------------------------------\u001b[0m",
      "\u001b[1;31mAttributeError\u001b[0m                            Traceback (most recent call last)",
      "\u001b[1;32m<ipython-input-3-39d2702f89ca>\u001b[0m in \u001b[0;36m<module>\u001b[1;34m\u001b[0m\n\u001b[0;32m      1\u001b[0m \u001b[1;32mfrom\u001b[0m \u001b[0mbmtk\u001b[0m\u001b[1;33m.\u001b[0m\u001b[0manalyzer\u001b[0m\u001b[1;33m.\u001b[0m\u001b[0mspike_trains\u001b[0m \u001b[1;32mimport\u001b[0m \u001b[0mto_dataframe\u001b[0m\u001b[1;33m\u001b[0m\u001b[1;33m\u001b[0m\u001b[0m\n\u001b[1;32m----> 2\u001b[1;33m \u001b[0mto_dataframe\u001b[0m\u001b[1;33m(\u001b[0m\u001b[0mconfig_file\u001b[0m\u001b[1;33m=\u001b[0m\u001b[1;34m'sim_ch01/simulation_config.json'\u001b[0m\u001b[1;33m)\u001b[0m\u001b[1;33m\u001b[0m\u001b[1;33m\u001b[0m\u001b[0m\n\u001b[0m",
      "\u001b[1;32mE:\\Users\\lenovo\\Anaconda3\\lib\\site-packages\\bmtk-0.0.8-py3.7.egg\\bmtk\\analyzer\\spike_trains.py\u001b[0m in \u001b[0;36mto_dataframe\u001b[1;34m(config_file, spikes_file)\u001b[0m\n\u001b[0;32m     22\u001b[0m \u001b[1;33m\u001b[0m\u001b[0m\n\u001b[0;32m     23\u001b[0m \u001b[1;32mdef\u001b[0m \u001b[0mto_dataframe\u001b[0m\u001b[1;33m(\u001b[0m\u001b[0mconfig_file\u001b[0m\u001b[1;33m,\u001b[0m \u001b[0mspikes_file\u001b[0m\u001b[1;33m=\u001b[0m\u001b[1;32mNone\u001b[0m\u001b[1;33m)\u001b[0m\u001b[1;33m:\u001b[0m\u001b[1;33m\u001b[0m\u001b[1;33m\u001b[0m\u001b[0m\n\u001b[1;32m---> 24\u001b[1;33m     \u001b[0mspike_trains\u001b[0m \u001b[1;33m=\u001b[0m \u001b[0mload_spikes_file\u001b[0m\u001b[1;33m(\u001b[0m\u001b[0mconfig_file\u001b[0m\u001b[1;33m=\u001b[0m\u001b[0mconfig_file\u001b[0m\u001b[1;33m,\u001b[0m \u001b[0mspikes_file\u001b[0m\u001b[1;33m=\u001b[0m\u001b[0mspikes_file\u001b[0m\u001b[1;33m)\u001b[0m\u001b[1;33m\u001b[0m\u001b[1;33m\u001b[0m\u001b[0m\n\u001b[0m\u001b[0;32m     25\u001b[0m     \u001b[1;32mreturn\u001b[0m \u001b[0mspike_trains\u001b[0m\u001b[1;33m.\u001b[0m\u001b[0mto_dataframe\u001b[0m\u001b[1;33m(\u001b[0m\u001b[1;33m)\u001b[0m\u001b[1;33m\u001b[0m\u001b[1;33m\u001b[0m\u001b[0m\n\u001b[0;32m     26\u001b[0m \u001b[1;33m\u001b[0m\u001b[0m\n",
      "\u001b[1;32mE:\\Users\\lenovo\\Anaconda3\\lib\\site-packages\\bmtk-0.0.8-py3.7.egg\\bmtk\\analyzer\\spike_trains.py\u001b[0m in \u001b[0;36mload_spikes_file\u001b[1;34m(config_file, spikes_file)\u001b[0m\n\u001b[0;32m     18\u001b[0m     \u001b[1;32melif\u001b[0m \u001b[0mconfig_file\u001b[0m \u001b[1;32mis\u001b[0m \u001b[1;32mnot\u001b[0m \u001b[1;32mNone\u001b[0m\u001b[1;33m:\u001b[0m\u001b[1;33m\u001b[0m\u001b[1;33m\u001b[0m\u001b[0m\n\u001b[0;32m     19\u001b[0m         \u001b[0mconfig\u001b[0m \u001b[1;33m=\u001b[0m \u001b[0mConfigDict\u001b[0m\u001b[1;33m.\u001b[0m\u001b[0mfrom_json\u001b[0m\u001b[1;33m(\u001b[0m\u001b[0mconfig_file\u001b[0m\u001b[1;33m)\u001b[0m\u001b[1;33m\u001b[0m\u001b[1;33m\u001b[0m\u001b[0m\n\u001b[1;32m---> 20\u001b[1;33m         \u001b[1;32mreturn\u001b[0m \u001b[0mSpikeTrains\u001b[0m\u001b[1;33m.\u001b[0m\u001b[0mload\u001b[0m\u001b[1;33m(\u001b[0m\u001b[0mconfig\u001b[0m\u001b[1;33m.\u001b[0m\u001b[0mspikes_file\u001b[0m\u001b[1;33m)\u001b[0m\u001b[1;33m\u001b[0m\u001b[1;33m\u001b[0m\u001b[0m\n\u001b[0m\u001b[0;32m     21\u001b[0m \u001b[1;33m\u001b[0m\u001b[0m\n\u001b[0;32m     22\u001b[0m \u001b[1;33m\u001b[0m\u001b[0m\n",
      "\u001b[1;31mAttributeError\u001b[0m: 'SonataConfig' object has no attribute 'spikes_file'"
     ]
    }
   ],
   "source": [
    "from bmtk.analyzer.spike_trains import to_dataframe\n",
    "to_dataframe(config_file='sim_ch01/simulation_config.json')"
   ]
  },
  {
   "cell_type": "markdown",
   "metadata": {},
   "source": [
    "When setting up the enviornment and config file we specified cell_vars=['v', 'cai']. This indicates to the simulator to also record membrane potential and calcium diffusion (and we can also specify other variables as long as they are supported in NEURON)."
   ]
  },
  {
   "cell_type": "code",
   "execution_count": null,
   "metadata": {},
   "outputs": [],
   "source": [
    "from bmtk.analyzer.cell_vars import plot_report\n",
    "\n",
    "plot_report(config_file='sim_ch01/simulation_config.json')"
   ]
  },
  {
   "cell_type": "code",
   "execution_count": 4,
   "metadata": {
    "scrolled": false
   },
   "outputs": [
    {
     "name": "stdout",
     "output_type": "stream",
     "text": [
      "spikes\n",
      "spikes/mcortex\n",
      "spikes/mcortex/node_ids\n",
      "spikes/mcortex/timestamps\n"
     ]
    },
    {
     "data": {
      "text/html": [
       "<div>\n",
       "<style scoped>\n",
       "    .dataframe tbody tr th:only-of-type {\n",
       "        vertical-align: middle;\n",
       "    }\n",
       "\n",
       "    .dataframe tbody tr th {\n",
       "        vertical-align: top;\n",
       "    }\n",
       "\n",
       "    .dataframe thead th {\n",
       "        text-align: right;\n",
       "    }\n",
       "</style>\n",
       "<table border=\"1\" class=\"dataframe\">\n",
       "  <thead>\n",
       "    <tr style=\"text-align: right;\">\n",
       "      <th></th>\n",
       "      <th>node_ids</th>\n",
       "      <th>timestamps</th>\n",
       "    </tr>\n",
       "  </thead>\n",
       "  <tbody>\n",
       "    <tr>\n",
       "      <td>0</td>\n",
       "      <td>0</td>\n",
       "      <td>554.8</td>\n",
       "    </tr>\n",
       "    <tr>\n",
       "      <td>15</td>\n",
       "      <td>0</td>\n",
       "      <td>594.4</td>\n",
       "    </tr>\n",
       "    <tr>\n",
       "      <td>14</td>\n",
       "      <td>0</td>\n",
       "      <td>637.1</td>\n",
       "    </tr>\n",
       "    <tr>\n",
       "      <td>13</td>\n",
       "      <td>0</td>\n",
       "      <td>683.9</td>\n",
       "    </tr>\n",
       "    <tr>\n",
       "      <td>12</td>\n",
       "      <td>0</td>\n",
       "      <td>734.7</td>\n",
       "    </tr>\n",
       "    <tr>\n",
       "      <td>11</td>\n",
       "      <td>0</td>\n",
       "      <td>788.7</td>\n",
       "    </tr>\n",
       "    <tr>\n",
       "      <td>10</td>\n",
       "      <td>0</td>\n",
       "      <td>844.9</td>\n",
       "    </tr>\n",
       "    <tr>\n",
       "      <td>9</td>\n",
       "      <td>0</td>\n",
       "      <td>902.6</td>\n",
       "    </tr>\n",
       "    <tr>\n",
       "      <td>8</td>\n",
       "      <td>0</td>\n",
       "      <td>961.2</td>\n",
       "    </tr>\n",
       "    <tr>\n",
       "      <td>7</td>\n",
       "      <td>0</td>\n",
       "      <td>1020.4</td>\n",
       "    </tr>\n",
       "    <tr>\n",
       "      <td>6</td>\n",
       "      <td>0</td>\n",
       "      <td>1079.9</td>\n",
       "    </tr>\n",
       "    <tr>\n",
       "      <td>5</td>\n",
       "      <td>0</td>\n",
       "      <td>1139.7</td>\n",
       "    </tr>\n",
       "    <tr>\n",
       "      <td>4</td>\n",
       "      <td>0</td>\n",
       "      <td>1199.5</td>\n",
       "    </tr>\n",
       "    <tr>\n",
       "      <td>3</td>\n",
       "      <td>0</td>\n",
       "      <td>1259.5</td>\n",
       "    </tr>\n",
       "    <tr>\n",
       "      <td>2</td>\n",
       "      <td>0</td>\n",
       "      <td>1319.5</td>\n",
       "    </tr>\n",
       "    <tr>\n",
       "      <td>1</td>\n",
       "      <td>0</td>\n",
       "      <td>1379.5</td>\n",
       "    </tr>\n",
       "    <tr>\n",
       "      <td>16</td>\n",
       "      <td>0</td>\n",
       "      <td>1439.6</td>\n",
       "    </tr>\n",
       "    <tr>\n",
       "      <td>17</td>\n",
       "      <td>0</td>\n",
       "      <td>1499.7</td>\n",
       "    </tr>\n",
       "  </tbody>\n",
       "</table>\n",
       "</div>"
      ],
      "text/plain": [
       "    node_ids  timestamps\n",
       "0          0       554.8\n",
       "15         0       594.4\n",
       "14         0       637.1\n",
       "13         0       683.9\n",
       "12         0       734.7\n",
       "11         0       788.7\n",
       "10         0       844.9\n",
       "9          0       902.6\n",
       "8          0       961.2\n",
       "7          0      1020.4\n",
       "6          0      1079.9\n",
       "5          0      1139.7\n",
       "4          0      1199.5\n",
       "3          0      1259.5\n",
       "2          0      1319.5\n",
       "1          0      1379.5\n",
       "16         0      1439.6\n",
       "17         0      1499.7"
      ]
     },
     "execution_count": 4,
     "metadata": {},
     "output_type": "execute_result"
    }
   ],
   "source": [
    "import h5py\n",
    "import pandas as pd\n",
    "\n",
    "f_spike = h5py.File('sim_ch01/output/spikes.h5') # output file location\n",
    "f_spike.visit(print) # check groups and members of data\n",
    "\n",
    "spikes = pd.DataFrame( dict([(key,f_spike['spikes/mcortex/'+key]) for key in f_spike['spikes/mcortex'].keys()]) )\n",
    "spikes = spikes.sort_values(by='timestamps')\n",
    "spikes # print pandas dataframe of cell id and spike time"
   ]
  },
  {
   "cell_type": "code",
   "execution_count": 8,
   "metadata": {},
   "outputs": [
    {
     "data": {
      "image/png": "[encoded data removed]",
      "text/plain": [
       "<Figure size 432x288 with 1 Axes>"
      ]
     },
     "metadata": {
      "needs_background": "light"
     },
     "output_type": "display_data"
    },
    {
     "data": {
      "image/png": "[encoded data removed]",
      "text/plain": [
       "<Figure size 432x288 with 1 Axes>"
      ]
     },
     "metadata": {
      "needs_background": "light"
     },
     "output_type": "display_data"
    }
   ],
   "source": [
    "import h5py\n",
    "import numpy as np\n",
    "import matplotlib.pyplot as plt\n",
    "\n",
    "node_ids = [0] # cell ids to plot\n",
    "output_dir = 'sim_ch01/output/' # output directory\n",
    "\n",
    "def plot_var(var,node_ids,output_dir,net_name):\n",
    "    f = h5py.File(output_dir+var+'_report.h5')\n",
    "    t = np.arange(*f['report/'+net_name+'/mapping/time'])\n",
    "    x = np.array(f['report/'+net_name+'/data'])\n",
    "    plt.figure()\n",
    "    plt.plot(t,x[:,node_ids])\n",
    "    plt.legend(['node-id '+str(i) for i in node_ids])\n",
    "    plt.xlabel('ms')\n",
    "    plt.title(var)\n",
    "    plt.show()\n",
    "\n",
    "plot_var('v',node_ids,output_dir,'mcortex')\n",
    "plot_var('cai',node_ids,output_dir,'mcortex')"
   ]
  },
  {
   "cell_type": "markdown",
   "metadata": {},
   "source": [
    "## 5. Additional Information\n",
    "\n",
    "### Changing run-time parameters.\n",
    "By making changes to the config file, we can change the conditions and simulation parameters without having to rebuild the network, modify parameter files, or change our run_bionet script. In fact we can iteratively run multiple simulations without any extra coding, only a text editor to change the json file.\n",
    "\n",
    "The run section of the config.json contains most of the parameters unique to the simulation:\n",
    "```json\n",
    "\"run\": {\n",
    "    \"dL\": 20,\n",
    "    \"nsteps_block\": 5000, \n",
    "    \"spike_threshold\": -15,\n",
    "    \"tstop\": 2000.0, \n",
    "    \"dt\": 0.1\n",
    "}\n",
    "```\n",
    "* tstop - simulation runtime in milliseconds.\n",
    "* dt - the time steps of the simulation. decreasing dt should increase accuracy of firing dynamics, but also increase time it takes to complete.\n",
    "* spike_threshold - used to determine when to count a action potential\n",
    "* dL - length of segments in a section. the number of segments will be forced to an odd number so the actual length may vary.\n",
    "\n",
    "Through the conditions section we can adjust simulation temperature (C) and the initial membrane potential of the cells:\n",
    "```json\n",
    "\"conditions\": {\n",
    "    \"celsius\": 34.0, \n",
    "    \"v_init\": -80\n",
    "}\n",
    "```\n",
    "\n",
    "And lastly, the input section lets us control stimulus onto the network. There are a number of different options which will be explained in the following tutorials. But even with a simple current injection we can adjust amplitude, delay and stimulation duration and measure the effect on the cell.\n",
    "```json\n",
    "\"inputs\": {\n",
    " \t\"current_clamp\": {\n",
    "      \"input_type\": \"current_clamp\",\n",
    "      \"module\": \"IClamp\",\n",
    "      \"node_set\": \"all\",\n",
    "      \"amp\": 0.120,\n",
    "      \"delay\": 500.0,\n",
    "      \"duration\": 1000.0\n",
    "    }\n",
    "}\n",
    "```\n",
    "We can even add multiple injections\n",
    "```json\n",
    "\"inputs\": {\n",
    " \t\"cclamp1\": {\n",
    "      \"input_type\": \"current_clamp\",\n",
    "      \"module\": \"IClamp\",\n",
    "      \"node_set\": \"all\",\n",
    "      \"amp\": 0.150,\n",
    "      \"delay\": 0.0,\n",
    "      \"duration\": 400.0\n",
    "    }\n",
    "    \n",
    "    \"cclamp2\": {\n",
    "      \"input_type\": \"current_clamp\",\n",
    "      \"module\": \"IClamp\",\n",
    "      \"node_set\": \"all\",\n",
    "      \"amp\": 0.300,\n",
    "      \"delay\": 500.0,\n",
    "      \"duration\": 400.0\n",
    "    }\n",
    "    \n",
    "    \"cclamp3\": {\n",
    "      \"input_type\": \"current_clamp\",\n",
    "      \"module\": \"IClamp\",\n",
    "      \"node_set\": \"all\",\n",
    "      \"amp\": 0.450,\n",
    "      \"delay\": 1000.0,\n",
    "      \"duration\": 400.0\n",
    "    }\n",
    "}\n",
    "```"
   ]
  },
  {
   "cell_type": "markdown",
   "metadata": {},
   "source": [
    "### Changing cell models\n",
    "When building the network we defined the cell model and morphology through the 'dynamics_params' and 'morphology_file' options. After building and saving the network, these values were saved in the node-types csv file."
   ]
  },
  {
   "cell_type": "code",
   "execution_count": null,
   "metadata": {},
   "outputs": [],
   "source": [
    "import pandas as pd\n",
    "pd.read_csv('network/mcortex_node_types.csv', sep=' ')"
   ]
  },
  {
   "cell_type": "markdown",
   "metadata": {},
   "source": [
    "If we want to run the simulation on a different cell model, all we have to do is \n",
    "1. Download new parameters.json and morphology.swc into components/biophysical\n",
    "2. Open mcortex_node_types.csv in a text editor and update 'morphology_file' and 'params_file' accordingly.\n",
    "\n",
    "In our simple one-cell example, it is likely faster to just rebuild the network. However the advantage of the use of the node types becomes clear once we start dealing with a larger network. For example we may have a network of hundreds of thousands of individual cells with tens of thousands of Scnn1a type cells. The process of adjusting/changing the Scnn1a parameter in the csv then starting another simulation only takes seconds, whereas rebuilding the entire network may take hours."
   ]
  }
 ],
 "metadata": {
  "anaconda-cloud": {},
  "kernelspec": {
   "display_name": "Python 3",
   "language": "python",
   "name": "python3"
  },
  "language_info": {
   "codemirror_mode": {
    "name": "ipython",
    "version": 3
   },
   "file_extension": ".py",
   "mimetype": "text/x-python",
   "name": "python",
   "nbconvert_exporter": "python",
   "pygments_lexer": "ipython3",
   "version": "3.7.4"
  }
 },
 "nbformat": 4,
 "nbformat_minor": 2
}
