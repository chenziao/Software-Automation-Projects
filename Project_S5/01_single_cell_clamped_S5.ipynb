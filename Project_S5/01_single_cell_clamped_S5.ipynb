{
 "cells": [
  {
   "cell_type": "markdown",
   "metadata": {},
   "source": [
    "# Chapter 1: Single cell simulation with current injection (for Project S4)\n",
    "\n",
    "In this example we will build a network consisting of a single biophysically detailed cell. Then we will run a short simulation with a current injection at the soma of the cell, then look at the output of spikes, membrane potential and calcium flux.\n",
    "\n",
    "\n",
    "**Note** - This example is adapted from the __[BMTK Tutorial 01](https://github.com/AllenInstitute/bmtk/blob/develop/docs/tutorial/01_single_cell_clamped.ipynb)__.\n",
    "\n",
    "**requirements:**\n",
    "* Python 2.7, 3.6+\n",
    "* bmtk\n",
    "* NEURON 7.4+"
   ]
  },
  {
   "cell_type": "markdown",
   "metadata": {},
   "source": [
    "## 1. Building the network\n",
    "\n",
    "First step is to use the bmtk Network Builder to create and save the network. First we instantiate a network with a name or our choosing (since throughout this tutorial we will use cell models that from the mouse cortex, let's call our network 'mcortex'). \n",
    "\n",
    "Once we have a network, we can add a single node by calling the add_nodes method."
   ]
  },
  {
   "cell_type": "code",
   "execution_count": 2,
   "metadata": {},
   "outputs": [],
   "source": [
    "from bmtk.builder.networks import NetworkBuilder\n",
    "\n",
    "net = NetworkBuilder('Nr5a1-Cre')\n",
    "net.add_nodes(cell_name='386049446',\n",
    "              potental='exc',\n",
    "              model_type='biophysical',\n",
    "              model_template='ctdb:Biophys1.hoc',\n",
    "              model_processing='aibs_perisomatic',\n",
    "              dynamics_params='386049446_fit.json',\n",
    "              morphology='Nr5a1-Cre_Ai14-177334.05.01.01_491459171_m.swc')"
   ]
  },
  {
   "cell_type": "markdown",
   "metadata": {},
   "source": [
    "Some of the parameters used to create the node are optional and only for our benefit. Others are necessary for when we will eventually run a simulation:\n",
    "* *cell_name* (optional) - Name/type of cell we will be modeling.\n",
    "* *potential* (optional) - Use to indicate that it is an excitatory type cell.\n",
    "* *model_type* - Used by the simulator to indicate that we are using a biophysical cell.\n",
    "* __*dynamics_params*__ - Model parameters. File will be downloaded from the Allen Cell Types Database. \n",
    "* __*morphology*__ - Model morphology. File will be downloaded from the Allen Cell Types Database.\n",
    "* *model_processing* - A custom function used by the simulator to load the model into NEURON using Allen Cell-Types files for perisomatic models ('aibs_allactive' for all_active model).\n",
    " \n",
    "#### Building and saving\n",
    "The final thing to do is to build and save the network. If successful, we should see a combination of hdf5 and csv files in the './network' directory, these files are used describe the network, and can be saved, stored and run at a later date.\n",
    "\n",
    "First, it's a good idea to remove any old files in the \"network\" folder so they don't interfere with the current simulation."
   ]
  },
  {
   "cell_type": "code",
   "execution_count": 3,
   "metadata": {},
   "outputs": [],
   "source": [
    "%%bash\n",
    "rm network/*"
   ]
  },
  {
   "cell_type": "markdown",
   "metadata": {},
   "source": [
    "If you get the output:\n",
    "\n",
    "rm: cannot remove 'network/*': No such file or directory\n",
    "\n",
    "It's OK. Keep going."
   ]
  },
  {
   "cell_type": "code",
   "execution_count": 4,
   "metadata": {},
   "outputs": [],
   "source": [
    "net.build()\n",
    "net.save_nodes(output_dir='network')"
   ]
  },
  {
   "cell_type": "markdown",
   "metadata": {},
   "source": [
    "Use the NetworkBuilder nodes() method to show that a node of our parameters was created"
   ]
  },
  {
   "cell_type": "code",
   "execution_count": 5,
   "metadata": {},
   "outputs": [
    {
     "name": "stdout",
     "output_type": "stream",
     "text": [
      "{'cell_name': '386049446', 'potental': 'exc', 'model_type': 'biophysical', 'model_template': 'ctdb:Biophys1.hoc', 'model_processing': 'aibs_perisomatic', 'dynamics_params': '386049446_fit.json', 'morphology': 'Nr5a1-Cre_Ai14-177334.05.01.01_491459171_m.swc', 'node_type_id': 100, 'node_id': 0}\n"
     ]
    }
   ],
   "source": [
    "for node in net.nodes():\n",
    "    print(node)"
   ]
  },
  {
   "cell_type": "markdown",
   "metadata": {},
   "source": [
    "## 2. Setting up the simulator enviornment\n",
    "\n",
    "Now that the network has been built, we can use the BioNet simulator to setup and run it using NEURON. The easiest ways to do this is to copy and modify [existing simulation setup](https://github.com/AllenInstitute/bmtk/tree/develop/docs/examples/bio_14cells), or use the  ```bmtk.utils.sim_setup``` script which can be called from the command-line\n",
    "\n",
    "```bash\n",
    "$ python -m bmtk.utils.sim_setup  --report-vars v,cai --network network --iclamp 0.18,500.0,1000.0 --dt 0.025 --tstop 2000.0 --include-examples --compile-mechanisms bionet Proj_S5\n",
    "```\n",
    "Or call the function directly in python"
   ]
  },
  {
   "cell_type": "code",
   "execution_count": 6,
   "metadata": {},
   "outputs": [
    {
     "name": "stderr",
     "output_type": "stream",
     "text": [
      "ERROR:bmtk.utils.sim_setup:  Was unable to compile mechanism in D:\\BMTK\\ProjectS5\\Proj_S5\\components\\mechanisms\n"
     ]
    }
   ],
   "source": [
    "from bmtk.utils.sim_setup import build_env_bionet\n",
    "\n",
    "build_env_bionet(base_dir='Proj_S5',      # Where to save the scripts and config files \n",
    "                 network_dir='network',    # Location of directory containing network files\n",
    "                 tstop=2000.0, dt=0.025,     # Run a simulation for 2000 ms at 0.025 ms intervals\n",
    "                 report_vars=['v', 'cai'], # Tells simulator we want to record membrane potential and calcium traces\n",
    "                 current_clamp={           # Creates a step current from 500.ms to 1500.0 ms  \n",
    "                     'amp': 0.180,\n",
    "                     'delay': 500.0,\n",
    "                     'duration': 1000.0\n",
    "                 },\n",
    "                 include_examples=True,    # Copies components files\n",
    "                 compile_mechanisms=True   # Will try to compile NEURON mechanisms\n",
    "                )"
   ]
  },
  {
   "cell_type": "markdown",
   "metadata": {},
   "source": [
    "<div class=\"alert alert-warning\">\n",
    "**Warning**: You may see an error that it filed while trying to compile the NEURON mechanisms - especially if jupyter is unable to find your NEURON environment path. If this happens you will need to manually compile the mechanisms:  \n",
    "\n",
    "```\n",
    " cd Proj_S5/components/mechanisms  \n",
    " nrnivmodl modfiles\n",
    "```\n",
    "</div>\n",
    "\n",
    "\n",
    "\n",
    "This will create the directory **Proj_S5** (feel free to give it a better name or set it to a different locations) with a number of new files and folders. Some of the more important ones include:\n",
    "* **circuit_config.json** - A configuration file that contains the location of the network files we created above. Plus location of neuron and synpatic models, templates, morphologies and mechanisms required to build our instantiate individual cell models.\n",
    "\n",
    "\n",
    "* **simulation_config.json** - contains information about the simulation. Including initial conditions and run-time configuration (_run_ and _conditions_). In the _inputs_ section we define what external sources we will use to drive the network (in this case a current clamp). And in the _reports_ section we define the variables (soma membrane potential and calcium) that will be recorded during the simulation \n",
    "\n",
    "\n",
    "* **components/biophysical_neuron_models/472363762_fit.json** - The parameter file for the cell we're modeling. Originally [downloaded from the Allen Cell Types Database](http://celltypes.brain-map.org/neuronal_model/download/482934212)\n",
    "\n",
    "\n",
    "* **components/biophysical_neuron_models/Scnn1a_473845048_m.swc** - The morphology file for our cell. Originally [downloaded from the Allen Cell Types Database](http://celltypes.brain-map.org/neuronal_model/download/482934212)\n",
    "\n",
    "\n",
    "Modifying these files with a text editor, or swapping out different parameter or morphologies, allows changing the simulation without extra programming."
   ]
  },
  {
   "cell_type": "markdown",
   "metadata": {},
   "source": [
    "### Place the model files in proper directory\n",
    "We will need to move the parameters and morphology files we will be using in the model into our simulator enviornment by doing either\n",
    "* Copy *386049446_fit.json*  and place it in ./Proj_S5/components/biophysical_neuron_models\n",
    "* Copy *Nr5a1-Cre_Ai14-177334.05.01.01_491459171_m.swc* and place it in ./Proj_S5/components/morphologies\n",
    "\n",
    "or directly run the command below in python."
   ]
  },
  {
   "cell_type": "code",
   "execution_count": 1,
   "metadata": {},
   "outputs": [],
   "source": [
    "%%bash\n",
    "cp source/386049446_fit.json Proj_S5/components/biophysical_neuron_models\n",
    "cp source/Nr5a1-Cre_Ai14-177334.05.01.01_491459171_m.swc Proj_S5/components/morphologies"
   ]
  },
  {
   "cell_type": "markdown",
   "metadata": {},
   "source": [
    "## 3. Running the simulation\n",
    "\n",
    "Once our config file is setup we can run a simulation either through the command line:\n",
    "```bash\n",
    "$ python run_bionet.py simulation_config.json\n",
    "```\n",
    "\n",
    "or through the script"
   ]
  },
  {
   "cell_type": "code",
   "execution_count": 2,
   "metadata": {},
   "outputs": [
    {
     "name": "stdout",
     "output_type": "stream",
     "text": [
      "2020-04-20 13:56:12,657 [INFO] Created log file\n",
      "2020-04-20 13:56:12,776 [INFO] Building cells.\n",
      "2020-04-20 13:56:12,930 [INFO] Building recurrent connections\n",
      "2020-04-20 13:56:12,961 [INFO] Running simulation for 2000.000 ms with the time step 0.025 ms\n",
      "2020-04-20 13:56:12,968 [INFO] Starting timestep: 0 at t_sim: 0.000 ms\n",
      "2020-04-20 13:56:12,971 [INFO] Block save every 5000 steps\n",
      "2020-04-20 13:56:13,283 [INFO]     step:5000 t_sim:125.00 ms\n",
      "2020-04-20 13:56:13,573 [INFO]     step:10000 t_sim:250.00 ms\n",
      "2020-04-20 13:56:13,877 [INFO]     step:15000 t_sim:375.00 ms\n",
      "2020-04-20 13:56:14,181 [INFO]     step:20000 t_sim:500.00 ms\n",
      "2020-04-20 13:56:14,498 [INFO]     step:25000 t_sim:625.00 ms\n",
      "2020-04-20 13:56:14,818 [INFO]     step:30000 t_sim:750.00 ms\n",
      "2020-04-20 13:56:15,207 [INFO]     step:35000 t_sim:875.00 ms\n",
      "2020-04-20 13:56:15,499 [INFO]     step:40000 t_sim:1000.00 ms\n",
      "2020-04-20 13:56:15,795 [INFO]     step:45000 t_sim:1125.00 ms\n",
      "2020-04-20 13:56:16,114 [INFO]     step:50000 t_sim:1250.00 ms\n",
      "2020-04-20 13:56:16,486 [INFO]     step:55000 t_sim:1375.00 ms\n",
      "2020-04-20 13:56:16,892 [INFO]     step:60000 t_sim:1500.00 ms\n",
      "2020-04-20 13:56:17,265 [INFO]     step:65000 t_sim:1625.00 ms\n",
      "2020-04-20 13:56:17,693 [INFO]     step:70000 t_sim:1750.00 ms\n",
      "2020-04-20 13:56:18,076 [INFO]     step:75000 t_sim:1875.00 ms\n",
      "2020-04-20 13:56:18,491 [INFO]     step:80000 t_sim:2000.00 ms\n",
      "2020-04-20 13:56:18,540 [INFO] Simulation completed in 5.577 seconds \n"
     ]
    }
   ],
   "source": [
    "from bmtk.simulator import bionet\n",
    "\n",
    "conf = bionet.Config.from_json('Proj_S5/simulation_config.json')\n",
    "conf.build_env()\n",
    "net = bionet.BioNetwork.from_config(conf)\n",
    "sim = bionet.BioSimulator.from_config(conf, network=net)\n",
    "sim.run()"
   ]
  },
  {
   "cell_type": "markdown",
   "metadata": {},
   "source": [
    "<div class=\"alert alert-warning\">\n",
    "**Warning**: If you the the following error\n",
    "    argument not a density mechanism name.\n",
    "You will need to compile the NEURON mechanisms  \n",
    "\n",
    "\n",
    "```\n",
    " cd Proj_S5/components/mechanisms\n",
    " nrnivmodl modfiles\n",
    " \n",
    "```\n",
    "</div>\n",
    "\n",
    "A quick breakdown of the script:\n",
    "```python\n",
    "conf = config.from_json('config.json')\n",
    "io.setup_output_dir(conf)\n",
    "nrn.load_neuron_modules(conf)\n",
    "```\n",
    "This section loads the configuration file, it setups the output directory and files for writing during the simulation, and loads NEURON mechanisms needed by the cell model(s) during the simulation.\n",
    "\n",
    "```python\n",
    "net = bionet.BioNetwork.from_config(conf)\n",
    "```\n",
    "Creates a NEURON representation of the network, including cell models that have been converted into their NEURON equivelents.\n",
    "\n",
    "```python\n",
    "sim = Simulation.from_config(conf, network=net)\n",
    "sim.run()\n",
    "```\n",
    "Sets up and runs the NEURON simulation. When finished the output - spike times, membrane potential and Calcium influx, will be saved into the output directory as specified in the config.\n",
    "\n"
   ]
  },
  {
   "cell_type": "markdown",
   "metadata": {},
   "source": [
    "## 4. Analyzing the run\n",
    "\n",
    "The results of the simulation are placed into various files as specified in the \"output\" section of the config file. We can change this before run-time if required.\n",
    "\n",
    "All simulations will save the spike times of the network cells. These are saved in csv format (output/spikes.txt) or hdf5 format(output/spikes.h5). To get the table of spike times for our single-cell network we can run the following method from the analyzer (gid 0 corresponds to our single cell)."
   ]
  },
  {
   "cell_type": "code",
   "execution_count": 2,
   "metadata": {},
   "outputs": [
    {
     "data": {
      "text/html": [
       "<div>\n",
       "<style scoped>\n",
       "    .dataframe tbody tr th:only-of-type {\n",
       "        vertical-align: middle;\n",
       "    }\n",
       "\n",
       "    .dataframe tbody tr th {\n",
       "        vertical-align: top;\n",
       "    }\n",
       "\n",
       "    .dataframe thead th {\n",
       "        text-align: right;\n",
       "    }\n",
       "</style>\n",
       "<table border=\"1\" class=\"dataframe\">\n",
       "  <thead>\n",
       "    <tr style=\"text-align: right;\">\n",
       "      <th></th>\n",
       "      <th>timestamps</th>\n",
       "      <th>population</th>\n",
       "      <th>node_ids</th>\n",
       "    </tr>\n",
       "  </thead>\n",
       "  <tbody>\n",
       "    <tr>\n",
       "      <td>0</td>\n",
       "      <td>539.175</td>\n",
       "      <td>Nr5a1-Cre</td>\n",
       "      <td>0</td>\n",
       "    </tr>\n",
       "    <tr>\n",
       "      <td>1</td>\n",
       "      <td>564.675</td>\n",
       "      <td>Nr5a1-Cre</td>\n",
       "      <td>0</td>\n",
       "    </tr>\n",
       "    <tr>\n",
       "      <td>2</td>\n",
       "      <td>594.400</td>\n",
       "      <td>Nr5a1-Cre</td>\n",
       "      <td>0</td>\n",
       "    </tr>\n",
       "    <tr>\n",
       "      <td>3</td>\n",
       "      <td>623.025</td>\n",
       "      <td>Nr5a1-Cre</td>\n",
       "      <td>0</td>\n",
       "    </tr>\n",
       "    <tr>\n",
       "      <td>4</td>\n",
       "      <td>651.225</td>\n",
       "      <td>Nr5a1-Cre</td>\n",
       "      <td>0</td>\n",
       "    </tr>\n",
       "    <tr>\n",
       "      <td>5</td>\n",
       "      <td>679.275</td>\n",
       "      <td>Nr5a1-Cre</td>\n",
       "      <td>0</td>\n",
       "    </tr>\n",
       "    <tr>\n",
       "      <td>6</td>\n",
       "      <td>707.200</td>\n",
       "      <td>Nr5a1-Cre</td>\n",
       "      <td>0</td>\n",
       "    </tr>\n",
       "    <tr>\n",
       "      <td>7</td>\n",
       "      <td>735.100</td>\n",
       "      <td>Nr5a1-Cre</td>\n",
       "      <td>0</td>\n",
       "    </tr>\n",
       "    <tr>\n",
       "      <td>8</td>\n",
       "      <td>762.950</td>\n",
       "      <td>Nr5a1-Cre</td>\n",
       "      <td>0</td>\n",
       "    </tr>\n",
       "    <tr>\n",
       "      <td>9</td>\n",
       "      <td>790.775</td>\n",
       "      <td>Nr5a1-Cre</td>\n",
       "      <td>0</td>\n",
       "    </tr>\n",
       "    <tr>\n",
       "      <td>10</td>\n",
       "      <td>818.575</td>\n",
       "      <td>Nr5a1-Cre</td>\n",
       "      <td>0</td>\n",
       "    </tr>\n",
       "    <tr>\n",
       "      <td>11</td>\n",
       "      <td>846.375</td>\n",
       "      <td>Nr5a1-Cre</td>\n",
       "      <td>0</td>\n",
       "    </tr>\n",
       "    <tr>\n",
       "      <td>12</td>\n",
       "      <td>874.175</td>\n",
       "      <td>Nr5a1-Cre</td>\n",
       "      <td>0</td>\n",
       "    </tr>\n",
       "    <tr>\n",
       "      <td>13</td>\n",
       "      <td>901.950</td>\n",
       "      <td>Nr5a1-Cre</td>\n",
       "      <td>0</td>\n",
       "    </tr>\n",
       "    <tr>\n",
       "      <td>14</td>\n",
       "      <td>929.725</td>\n",
       "      <td>Nr5a1-Cre</td>\n",
       "      <td>0</td>\n",
       "    </tr>\n",
       "    <tr>\n",
       "      <td>15</td>\n",
       "      <td>957.525</td>\n",
       "      <td>Nr5a1-Cre</td>\n",
       "      <td>0</td>\n",
       "    </tr>\n",
       "    <tr>\n",
       "      <td>16</td>\n",
       "      <td>985.325</td>\n",
       "      <td>Nr5a1-Cre</td>\n",
       "      <td>0</td>\n",
       "    </tr>\n",
       "    <tr>\n",
       "      <td>17</td>\n",
       "      <td>1013.150</td>\n",
       "      <td>Nr5a1-Cre</td>\n",
       "      <td>0</td>\n",
       "    </tr>\n",
       "    <tr>\n",
       "      <td>18</td>\n",
       "      <td>1040.975</td>\n",
       "      <td>Nr5a1-Cre</td>\n",
       "      <td>0</td>\n",
       "    </tr>\n",
       "    <tr>\n",
       "      <td>19</td>\n",
       "      <td>1068.825</td>\n",
       "      <td>Nr5a1-Cre</td>\n",
       "      <td>0</td>\n",
       "    </tr>\n",
       "    <tr>\n",
       "      <td>20</td>\n",
       "      <td>1096.700</td>\n",
       "      <td>Nr5a1-Cre</td>\n",
       "      <td>0</td>\n",
       "    </tr>\n",
       "    <tr>\n",
       "      <td>21</td>\n",
       "      <td>1124.600</td>\n",
       "      <td>Nr5a1-Cre</td>\n",
       "      <td>0</td>\n",
       "    </tr>\n",
       "    <tr>\n",
       "      <td>22</td>\n",
       "      <td>1152.500</td>\n",
       "      <td>Nr5a1-Cre</td>\n",
       "      <td>0</td>\n",
       "    </tr>\n",
       "    <tr>\n",
       "      <td>23</td>\n",
       "      <td>1180.475</td>\n",
       "      <td>Nr5a1-Cre</td>\n",
       "      <td>0</td>\n",
       "    </tr>\n",
       "    <tr>\n",
       "      <td>24</td>\n",
       "      <td>1208.450</td>\n",
       "      <td>Nr5a1-Cre</td>\n",
       "      <td>0</td>\n",
       "    </tr>\n",
       "    <tr>\n",
       "      <td>25</td>\n",
       "      <td>1236.450</td>\n",
       "      <td>Nr5a1-Cre</td>\n",
       "      <td>0</td>\n",
       "    </tr>\n",
       "    <tr>\n",
       "      <td>26</td>\n",
       "      <td>1264.500</td>\n",
       "      <td>Nr5a1-Cre</td>\n",
       "      <td>0</td>\n",
       "    </tr>\n",
       "    <tr>\n",
       "      <td>27</td>\n",
       "      <td>1292.600</td>\n",
       "      <td>Nr5a1-Cre</td>\n",
       "      <td>0</td>\n",
       "    </tr>\n",
       "    <tr>\n",
       "      <td>28</td>\n",
       "      <td>1320.725</td>\n",
       "      <td>Nr5a1-Cre</td>\n",
       "      <td>0</td>\n",
       "    </tr>\n",
       "    <tr>\n",
       "      <td>29</td>\n",
       "      <td>1348.875</td>\n",
       "      <td>Nr5a1-Cre</td>\n",
       "      <td>0</td>\n",
       "    </tr>\n",
       "    <tr>\n",
       "      <td>30</td>\n",
       "      <td>1377.075</td>\n",
       "      <td>Nr5a1-Cre</td>\n",
       "      <td>0</td>\n",
       "    </tr>\n",
       "    <tr>\n",
       "      <td>31</td>\n",
       "      <td>1405.300</td>\n",
       "      <td>Nr5a1-Cre</td>\n",
       "      <td>0</td>\n",
       "    </tr>\n",
       "    <tr>\n",
       "      <td>32</td>\n",
       "      <td>1433.600</td>\n",
       "      <td>Nr5a1-Cre</td>\n",
       "      <td>0</td>\n",
       "    </tr>\n",
       "    <tr>\n",
       "      <td>33</td>\n",
       "      <td>1461.925</td>\n",
       "      <td>Nr5a1-Cre</td>\n",
       "      <td>0</td>\n",
       "    </tr>\n",
       "    <tr>\n",
       "      <td>34</td>\n",
       "      <td>1490.275</td>\n",
       "      <td>Nr5a1-Cre</td>\n",
       "      <td>0</td>\n",
       "    </tr>\n",
       "  </tbody>\n",
       "</table>\n",
       "</div>"
      ],
      "text/plain": [
       "    timestamps population  node_ids\n",
       "0      539.175  Nr5a1-Cre         0\n",
       "1      564.675  Nr5a1-Cre         0\n",
       "2      594.400  Nr5a1-Cre         0\n",
       "3      623.025  Nr5a1-Cre         0\n",
       "4      651.225  Nr5a1-Cre         0\n",
       "5      679.275  Nr5a1-Cre         0\n",
       "6      707.200  Nr5a1-Cre         0\n",
       "7      735.100  Nr5a1-Cre         0\n",
       "8      762.950  Nr5a1-Cre         0\n",
       "9      790.775  Nr5a1-Cre         0\n",
       "10     818.575  Nr5a1-Cre         0\n",
       "11     846.375  Nr5a1-Cre         0\n",
       "12     874.175  Nr5a1-Cre         0\n",
       "13     901.950  Nr5a1-Cre         0\n",
       "14     929.725  Nr5a1-Cre         0\n",
       "15     957.525  Nr5a1-Cre         0\n",
       "16     985.325  Nr5a1-Cre         0\n",
       "17    1013.150  Nr5a1-Cre         0\n",
       "18    1040.975  Nr5a1-Cre         0\n",
       "19    1068.825  Nr5a1-Cre         0\n",
       "20    1096.700  Nr5a1-Cre         0\n",
       "21    1124.600  Nr5a1-Cre         0\n",
       "22    1152.500  Nr5a1-Cre         0\n",
       "23    1180.475  Nr5a1-Cre         0\n",
       "24    1208.450  Nr5a1-Cre         0\n",
       "25    1236.450  Nr5a1-Cre         0\n",
       "26    1264.500  Nr5a1-Cre         0\n",
       "27    1292.600  Nr5a1-Cre         0\n",
       "28    1320.725  Nr5a1-Cre         0\n",
       "29    1348.875  Nr5a1-Cre         0\n",
       "30    1377.075  Nr5a1-Cre         0\n",
       "31    1405.300  Nr5a1-Cre         0\n",
       "32    1433.600  Nr5a1-Cre         0\n",
       "33    1461.925  Nr5a1-Cre         0\n",
       "34    1490.275  Nr5a1-Cre         0"
      ]
     },
     "execution_count": 2,
     "metadata": {},
     "output_type": "execute_result"
    }
   ],
   "source": [
    "from bmtk.analyzer.spike_trains import to_dataframe\n",
    "to_dataframe(config_file='Proj_S5/simulation_config.json')"
   ]
  },
  {
   "cell_type": "markdown",
   "metadata": {},
   "source": [
    "When setting up the enviornment and config file we specified cell_vars=['v', 'cai']. This indicates to the simulator to also record membrane potential and calcium diffusion (and we can also specify other variables as long as they are supported in NEURON)."
   ]
  },
  {
   "cell_type": "code",
   "execution_count": 3,
   "metadata": {},
   "outputs": [
    {
     "data": {
      "image/png": "[encoded data removed]",
      "text/plain": [
       "<Figure size 432x288 with 1 Axes>"
      ]
     },
     "metadata": {
      "needs_background": "light"
     },
     "output_type": "display_data"
    },
    {
     "data": {
      "image/png": "[encoded data removed]",
      "text/plain": [
       "<Figure size 432x288 with 1 Axes>"
      ]
     },
     "metadata": {
      "needs_background": "light"
     },
     "output_type": "display_data"
    }
   ],
   "source": [
    "from bmtk.analyzer.cell_vars import plot_report\n",
    "\n",
    "plot_report(config_file='Proj_S5/simulation_config.json')"
   ]
  },
  {
   "cell_type": "markdown",
   "metadata": {},
   "source": [
    "Following script allows you to get recorded variables. You can further analyze the results if needed."
   ]
  },
  {
   "cell_type": "code",
   "execution_count": 4,
   "metadata": {},
   "outputs": [
    {
     "data": {
      "image/png": "[encoded data removed]",
      "text/plain": [
       "<Figure size 432x288 with 1 Axes>"
      ]
     },
     "metadata": {
      "needs_background": "light"
     },
     "output_type": "display_data"
    },
    {
     "data": {
      "image/png": "[encoded data removed]",
      "text/plain": [
       "<Figure size 432x288 with 1 Axes>"
      ]
     },
     "metadata": {
      "needs_background": "light"
     },
     "output_type": "display_data"
    }
   ],
   "source": [
    "import h5py\n",
    "import numpy as np\n",
    "import matplotlib.pyplot as plt\n",
    "%matplotlib inline\n",
    "\n",
    "node_ids = [0] # cell ids to plot\n",
    "output_dir = 'Proj_S5/output/' # output directory\n",
    "\n",
    "def plot_var(var,node_ids,output_dir,net_name):\n",
    "    f = h5py.File(output_dir+var+'_report.h5')\n",
    "    t = np.arange(*f['report/'+net_name+'/mapping/time'])\n",
    "    x = np.array(f['report/'+net_name+'/data'])\n",
    "    plt.figure()\n",
    "    plt.plot(t,x[:,node_ids])\n",
    "    plt.legend(['node-id '+str(i) for i in node_ids])\n",
    "    plt.xlabel('ms')\n",
    "    plt.title(var)\n",
    "    plt.show()\n",
    "\n",
    "plot_var('v',node_ids,output_dir,'Nr5a1-Cre')\n",
    "plot_var('cai',node_ids,output_dir,'Nr5a1-Cre')"
   ]
  },
  {
   "cell_type": "code",
   "execution_count": null,
   "metadata": {},
   "outputs": [],
   "source": [
    "from bmtk.utils.cell_vars import CellVarsFile\n",
    "from bmtk.analyzer.cell_vars import _get_cell_report\n",
    "\n",
    "def get_variable_report(config_file=None, report_file=None, report_name=None, variable=None, gid=None):\n",
    "    if report_file is None:\n",
    "        report_name, report_file = _get_cell_report(config_file, report_name)\n",
    "    var_report = CellVarsFile(report_file)\n",
    "    time_steps = var_report.time_trace\n",
    "    return var_report.data(gid=gid, var_name=variable), time_steps\n",
    "\n",
    "Cai,t = get_variable_report(config_file='simulation_config.json', gid=0, variable=\"cai\")\n",
    "V,t = get_variable_report(config_file='simulation_config.json', gid=0, variable=\"v\")"
   ]
  },
  {
   "cell_type": "code",
   "execution_count": null,
   "metadata": {},
   "outputs": [],
   "source": [
    "%matplotlib inline\n",
    "import matplotlib.pyplot as plt\n",
    "\n",
    "plt.figure()\n",
    "plt.subplot(2,1,1)\n",
    "plt.plot(t,Cai)\n",
    "plt.subplot(2,1,2)\n",
    "plt.plot(t,V)\n",
    "plt.show()"
   ]
  },
  {
   "cell_type": "markdown",
   "metadata": {},
   "source": [
    "## 5. Additional Information\n",
    "\n",
    "### Changing run-time parameters.\n",
    "The input section lets us control stimulus onto the network. There are a number of different options which will be explained in the following tutorials. But even with a simple current injection we can adjust amplitude, delay and stimulation duration and measure the effect on the cell.\n",
    "```json\n",
    "\"inputs\": {\n",
    " \t\"current_clamp\": {\n",
    "      \"input_type\": \"current_clamp\",\n",
    "      \"module\": \"IClamp\",\n",
    "      \"node_set\": \"all\",\n",
    "      \"amp\": 0.120,\n",
    "      \"delay\": 500.0,\n",
    "      \"duration\": 1000.0\n",
    "    }\n",
    "}\n",
    "```"
   ]
  },
  {
   "cell_type": "markdown",
   "metadata": {},
   "source": [
    "### Changing cell models\n",
    "When building the network we defined the cell model and morphology through the 'dynamics_params' and 'morphology_file' options. After building and saving the network, these values were saved in the node-types csv file."
   ]
  },
  {
   "cell_type": "code",
   "execution_count": 4,
   "metadata": {},
   "outputs": [
    {
     "data": {
      "text/html": [
       "<div>\n",
       "<style scoped>\n",
       "    .dataframe tbody tr th:only-of-type {\n",
       "        vertical-align: middle;\n",
       "    }\n",
       "\n",
       "    .dataframe tbody tr th {\n",
       "        vertical-align: top;\n",
       "    }\n",
       "\n",
       "    .dataframe thead th {\n",
       "        text-align: right;\n",
       "    }\n",
       "</style>\n",
       "<table border=\"1\" class=\"dataframe\">\n",
       "  <thead>\n",
       "    <tr style=\"text-align: right;\">\n",
       "      <th></th>\n",
       "      <th>node_type_id</th>\n",
       "      <th>model_template</th>\n",
       "      <th>potental</th>\n",
       "      <th>model_type</th>\n",
       "      <th>cell_name</th>\n",
       "      <th>dynamics_params</th>\n",
       "      <th>model_processing</th>\n",
       "      <th>morphology</th>\n",
       "    </tr>\n",
       "  </thead>\n",
       "  <tbody>\n",
       "    <tr>\n",
       "      <td>0</td>\n",
       "      <td>100</td>\n",
       "      <td>ctdb:Biophys1.hoc</td>\n",
       "      <td>exc</td>\n",
       "      <td>biophysical</td>\n",
       "      <td>386049446</td>\n",
       "      <td>386049446_fit.json</td>\n",
       "      <td>aibs_perisomatic</td>\n",
       "      <td>Nr5a1-Cre_Ai14-177334.05.01.01_491459171_m.swc</td>\n",
       "    </tr>\n",
       "  </tbody>\n",
       "</table>\n",
       "</div>"
      ],
      "text/plain": [
       "   node_type_id     model_template potental   model_type  cell_name  \\\n",
       "0           100  ctdb:Biophys1.hoc      exc  biophysical  386049446   \n",
       "\n",
       "      dynamics_params  model_processing  \\\n",
       "0  386049446_fit.json  aibs_perisomatic   \n",
       "\n",
       "                                       morphology  \n",
       "0  Nr5a1-Cre_Ai14-177334.05.01.01_491459171_m.swc  "
      ]
     },
     "execution_count": 4,
     "metadata": {},
     "output_type": "execute_result"
    }
   ],
   "source": [
    "import pandas as pd\n",
    "pd.read_csv('network/Nr5a1-Cre_node_types.csv', sep=' ')"
   ]
  },
  {
   "cell_type": "markdown",
   "metadata": {},
   "source": [
    "If we want to run the simulation on a different cell model, all we have to do is \n",
    "1. Download new parameters.json and morphology.swc into components/biophysical_neuron_models and components/morphologies respectively.\n",
    "2. Open Nr5a1-Cre_node_types.csv in a text editor and update 'morphology_file' and 'params_file' accordingly.\n",
    "\n",
    "In our simple one-cell example, it is likely faster to just rebuild the network. However the advantage of the use of the node types becomes clear once we start dealing with a larger network. For example we may have a network of hundreds of thousands of individual cells with tens of thousands of Scnn1a type cells. The process of adjusting/changing the Scnn1a parameter in the csv then starting another simulation only takes seconds, whereas rebuilding the entire network may take hours."
   ]
  },
  {
   "cell_type": "code",
   "execution_count": null,
   "metadata": {},
   "outputs": [],
   "source": []
  }
 ],
 "metadata": {
  "anaconda-cloud": {},
  "kernelspec": {
   "display_name": "Python 3",
   "language": "python",
   "name": "python3"
  },
  "language_info": {
   "codemirror_mode": {
    "name": "ipython",
    "version": 3
   },
   "file_extension": ".py",
   "mimetype": "text/x-python",
   "name": "python",
   "nbconvert_exporter": "python",
   "pygments_lexer": "ipython3",
   "version": "3.7.4"
  }
 },
 "nbformat": 4,
 "nbformat_minor": 2
}
